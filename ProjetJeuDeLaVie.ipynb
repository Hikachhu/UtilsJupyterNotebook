{
  "nbformat": 4,
  "nbformat_minor": 0,
  "metadata": {
    "colab": {
      "name": "ProjetJeuDeLaVie.ipynb",
      "provenance": [],
      "collapsed_sections": [
        "LP9Tl8IQxQAg"
      ],
      "include_colab_link": true
    },
    "kernelspec": {
      "name": "python3",
      "display_name": "Python 3"
    },
    "language_info": {
      "name": "python"
    },
    "accelerator": "GPU"
  },
  "cells": [
    {
      "cell_type": "markdown",
      "metadata": {
        "id": "view-in-github",
        "colab_type": "text"
      },
      "source": [
        "<a href=\"https://colab.research.google.com/github/Hikachhu/ProgGPU/blob/main/ProjetJeuDeLaVie.ipynb\" target=\"_parent\"><img src=\"https://colab.research.google.com/assets/colab-badge.svg\" alt=\"Open In Colab\"/></a>"
      ]
    },
    {
      "cell_type": "markdown",
      "source": [
        "# Executez cette cellule pour installer la bonne version de CUDA"
      ],
      "metadata": {
        "id": "LP9Tl8IQxQAg"
      }
    },
    {
      "cell_type": "code",
      "source": [
        "!apt-get --purge remove cuda nvidia* libnvidia-*\n",
        "!dpkg -l | grep cuda- | awk '{print $2}' | xargs -n1 dpkg --purge\n",
        "!apt-get remove cuda-*\n",
        "!apt autoremove\n",
        "!apt-get update\n",
        "!wget https://developer.nvidia.com/compute/cuda/9.2/Prod/local_installers/cuda-repo-ubuntu1604-9-2-local_9.2.88-1_amd64 -O cuda-repo-ubuntu1604-9-2-local_9.2.88-1_amd64.deb\n",
        "!dpkg -i cuda-repo-ubuntu1604-9-2-local_9.2.88-1_amd64.deb\n",
        "!apt-key add /var/cuda-repo-9-2-local/7fa2af80.pub\n",
        "!apt-get update\n",
        "!apt-get install cuda-9.2"
      ],
      "metadata": {
        "id": "SC-ZfHdkMwiu"
      },
      "execution_count": null,
      "outputs": []
    },
    {
      "cell_type": "code",
      "execution_count": null,
      "metadata": {
        "id": "Vjov-qc1v32O"
      },
      "outputs": [],
      "source": [
        "!nvcc --version"
      ]
    },
    {
      "cell_type": "code",
      "source": [
        "!pip install git+git://github.com/andreinechaev/nvcc4jupyter.git"
      ],
      "metadata": {
        "id": "gNTbL4fywF2i"
      },
      "execution_count": null,
      "outputs": []
    },
    {
      "cell_type": "code",
      "source": [
        "%load_ext nvcc_plugin"
      ],
      "metadata": {
        "id": "Ktto5DHTwJpf"
      },
      "execution_count": null,
      "outputs": []
    },
    {
      "cell_type": "code",
      "source": [
        "%%cu\n",
        "#include <iostream>\n",
        "__global__ void kernel(void){\n",
        "    printf(\"Hello world from block %d, thread %d\\n\", blockIdx.x, threadIdx.x);\n",
        "}\n",
        "\n",
        "int main(void){\n",
        "    kernel<<<5,5>>>();\n",
        "    cudaDeviceSynchronize();\n",
        "    return 0;\n",
        "}"
      ],
      "metadata": {
        "id": "FxkXVkt8J971"
      },
      "execution_count": null,
      "outputs": []
    },
    {
      "cell_type": "markdown",
      "source": [
        "# Exercise 4"
      ],
      "metadata": {
        "id": "4TUi2GvA35r7"
      }
    },
    {
      "cell_type": "code",
      "source": [
        "%%cu\n",
        "#include <iostream>\n",
        "#include <chrono>\n",
        "#include <stdio.h>\n",
        "#include <unistd.h>\n",
        "#include <time.h>\n",
        "#include <stdlib.h>\n",
        "\n",
        "#include <fstream>\n",
        "\n",
        "#define Niter 10\n",
        "\n",
        "\n",
        "void disp(int sizeX,int sizeY,int *Init){\n",
        "  for (int posX = 0; posX < sizeX ; posX++) {\n",
        "\t\tfor(int posY=0;posY<sizeY;posY++){\n",
        "\t\t  printf(\"%d \",Init[posY+posX*sizeY]);\n",
        "\t\t}\n",
        "\t\tprintf(\"\\n\");\n",
        "\t}\n",
        "}\n",
        "\n",
        "__global__ void lifeGameGPU(int *Init, int *Next,int sizeX,int sizeY) {\n",
        "    int tid = threadIdx.x + blockIdx.x * blockDim.x;\n",
        "    int posX=tid%sizeX;\n",
        "    int posY=(int)(tid/sizeX);\n",
        "    if(posX<sizeX&&posY<sizeY){\n",
        "        int nbrVoisin=0;\n",
        "        if((posX+1)<(sizeX)) \tnbrVoisin+=Init[posY+(posX+1)*sizeY];\n",
        "        if((posY+1)<(sizeY)) \tnbrVoisin+=Init[(posY+1)+posX*sizeY];\n",
        "        if((posX-1>=0)) \t\tnbrVoisin+=Init[posY+(posX-1)*sizeY];\n",
        "        if((posY-1>=0)) \t\tnbrVoisin+=Init[(posY-1)+posX*sizeY];\n",
        "\t\t\n",
        "        if((posX+1<(sizeX))\t\t&&(posY+1<sizeY)) \t\tnbrVoisin+=Init[(posY+1)+(posX+1)*sizeY];\n",
        "        if((posX-1>=0)\t\t\t&&(posY-1>=0)) \t\t\tnbrVoisin+=Init[(posY-1)+(posX-1)*sizeY];\n",
        "        if((posX-1>=0)\t\t\t&&(posY+1<(sizeY))) \tnbrVoisin+=Init[(posY+1)+(posX-1)*sizeY];\n",
        "        if((posY-1>=0)\t\t\t&&(posX+1<(sizeX))) \tnbrVoisin+=Init[(posY-1)+(posX+1)*sizeY];\n",
        "\t\t\n",
        "        if(Init[posY+posX*sizeY]==0){\n",
        "          if(nbrVoisin==3)Next[posY+posX*sizeY]=1;\n",
        "          else Next[posY+posX*sizeY]=0;\n",
        "        }else if (Init[posY+posX*sizeY]==1){\n",
        "          if((nbrVoisin<2||nbrVoisin>3))Next[posY+posX*sizeY]=0;\n",
        "          else Next[posY+posX*sizeY]=1;\n",
        "        }\n",
        "    }\n",
        "}\n",
        "\n",
        "__global__ void DisplayArray(int sizeX,int sizeY,int* tab){\n",
        "  for (int posX = 0; posX < sizeX ; posX++) {\n",
        "    for(int posY=0;posY<sizeY;posY++){\n",
        "      printf(\"%d \",tab[posY+posX*sizeY]);\n",
        "    }\n",
        "    printf(\"\\n\");\n",
        "  }\n",
        "}\n",
        "\n",
        "\n",
        "int main(){\n",
        "\tFILE * fic=fopen(\"GPUxyToTime.csv\",\"w+\");\n",
        "//\tfprintf(fic,\"x y time\\n\");\n",
        "\tfprintf(fic,\"iter time\\n\");\n",
        "int rep=300,step=20,iter=10000;\n",
        "  for(int sizeY=100;sizeY<rep;sizeY+=step){\n",
        "      int sizeX=sizeY;\n",
        "      int *Init, *Next;\n",
        "      Init=(int*)malloc(sizeof(int)*sizeX*sizeY);\n",
        "\n",
        "      Next=(int*)malloc(sizeof(int)*sizeX*sizeY);\n",
        "\n",
        "      for (int posX = 0; posX < sizeX ; posX++) {\n",
        "        for(int posY=0;posY<sizeY;posY++){\n",
        "          Init[posY+posX*sizeY] = 0;\n",
        "          Next[posY+posX*sizeY] = 0;\n",
        "        }\n",
        "      }\n",
        "      \n",
        "      int *d_Init, *d_Next;\n",
        "      cudaEvent_t start, stop;\n",
        "      cudaEventCreate(&start);\n",
        "      cudaEventCreate(&stop);\n",
        "      cudaMalloc(&d_Init, sizeX*sizeY*sizeof(int));\n",
        "      cudaMalloc(&d_Next, sizeX*sizeY*sizeof(int));\n",
        "      \n",
        "      for (int posX = 0; posX < sizeX ; posX++) {\n",
        "        for(int posY=0;posY<sizeY;posY++){\n",
        "          Init[posY+posX*sizeY] = 0;\n",
        "          Next[posY+posX*sizeY] = 0;\n",
        "        }\n",
        "      }\n",
        "      Init[0]=1;Init[2]=1;Init[11]=1;Init[12]=1;Init[22]=1;\n",
        "\n",
        "\n",
        "      cudaMemcpy(d_Init, Init, sizeX*sizeY*sizeof(int), cudaMemcpyHostToDevice);\n",
        "      cudaMemcpy(d_Next, Next, sizeX*sizeY*sizeof(int), cudaMemcpyHostToDevice);\n",
        "\n",
        "      cudaDeviceProp properties;\n",
        "      cudaGetDeviceProperties(&properties, 0);\n",
        "      int nThreads = properties.maxThreadsPerBlock; // Get maximum number of threads per block\n",
        "      int nBlocks = (sizeX*sizeY + nThreads - 1) / nThreads; // Get right number of blocks to cover our problem\n",
        "      cudaEventRecord(start); // We do Niter to have an averaged execution time\n",
        "    \n",
        "      for(int z=0;z<iter;z++){\t\t\n",
        "        if(z%2==0){\n",
        "          lifeGameGPU<<<nBlocks,nThreads>>>(d_Init, d_Next,sizeX, sizeY);\n",
        "        }else{ \n",
        "          lifeGameGPU<<<nBlocks,nThreads>>>(d_Next, d_Init,sizeX, sizeY);\n",
        "        }\n",
        "      }\n",
        "\n",
        "      cudaEventRecord(stop);\n",
        "      cudaEventSynchronize(stop);\n",
        "      float ms;\n",
        "      cudaEventElapsedTime(&ms, start, stop);\n",
        "\n",
        "      cudaMemcpy(Init, d_Init, sizeX*sizeY*sizeof(int), cudaMemcpyDeviceToHost);\n",
        "      cudaMemcpy(Next, d_Next, sizeX*sizeY*sizeof(int), cudaMemcpyDeviceToHost);\n",
        "      \n",
        "      fprintf(fic,\"%d %d %f\\n\",sizeX,sizeY,ms);\n",
        "\t  //  fprintf(fic,\"%d %f\\n\",iter,ms);\n",
        "      cudaFree(d_Init);\n",
        "      cudaFree(d_Next);\n",
        "      \n",
        "    \n",
        "  }\n",
        "      fclose(fic);\n",
        "}"
      ],
      "metadata": {
        "colab": {
          "base_uri": "https://localhost:8080/"
        },
        "id": "QYT9qRDa37rS",
        "outputId": "cc8fbce5-4669-4e1b-99ba-9210c77a773d"
      },
      "execution_count": 74,
      "outputs": [
        {
          "output_type": "stream",
          "name": "stdout",
          "text": [
            "\n"
          ]
        }
      ]
    },
    {
      "cell_type": "code",
      "source": [
        "!ls -la"
      ],
      "metadata": {
        "colab": {
          "base_uri": "https://localhost:8080/"
        },
        "id": "JKHE4AABasic",
        "outputId": "3e94c341-a571-4bdf-ea55-4ac3d835fce8"
      },
      "execution_count": 72,
      "outputs": [
        {
          "output_type": "stream",
          "name": "stdout",
          "text": [
            "total 1237752\n",
            "drwxr-xr-x 1 root root       4096 Feb  6 14:57 .\n",
            "drwxr-xr-x 1 root root       4096 Feb  6 13:28 ..\n",
            "drwxr-xr-x 4 root root       4096 Feb  1 14:31 .config\n",
            "-rw-r--r-- 1 root root        149 Feb  6 14:44 CPUiterToTime.csv\n",
            "-rw-r--r-- 1 root root        204 Feb  6 14:57 CPUxyToTime.csv\n",
            "-rw-r--r-- 1 root root 1267391958 May  1  2018 cuda-repo-ubuntu1604-9-2-local_9.2.88-1_amd64.deb\n",
            "drwx------ 5 root root       4096 Feb  6 14:20 gdrive\n",
            "-rw-r--r-- 1 root root        169 Feb  6 14:50 GPUiterToTime.csv\n",
            "-rw-r--r-- 1 root root        204 Feb  6 14:55 GPUxyToTime.csv\n",
            "-rwxr-xr-x 1 root root      12808 Feb  6 14:42 jeudelavie\n",
            "-rw-r--r-- 1 root root       2767 Feb  6 14:42 jeudelavie.c\n",
            "drwxr-xr-x 1 root root       4096 Feb  1 14:32 sample_data\n",
            "drwxr-xr-x 2 root root       4096 Feb  6 13:40 src\n",
            "-rw-r--r-- 1 root root          0 Feb  6 14:50 xyToTime.csv\n"
          ]
        }
      ]
    },
    {
      "cell_type": "code",
      "source": [
        "!cat GPUxyToTime.csv"
      ],
      "metadata": {
        "colab": {
          "base_uri": "https://localhost:8080/"
        },
        "id": "y2XnsUlDbmv4",
        "outputId": "53fc2516-199f-4910-e6bc-a24bd1ac42f6"
      },
      "execution_count": 75,
      "outputs": [
        {
          "output_type": "stream",
          "name": "stdout",
          "text": [
            "iter time\n",
            "100 100 417.056458\n",
            "120 120 567.813171\n",
            "140 140 535.919739\n",
            "160 160 536.267090\n",
            "180 180 772.033752\n",
            "200 200 980.726013\n",
            "220 220 1012.853638\n",
            "240 240 1250.472290\n",
            "260 260 1459.107910\n",
            "280 280 1525.097290\n"
          ]
        }
      ]
    },
    {
      "cell_type": "code",
      "source": [
        "!cp -r GPUiterToTime.csv \"/content/gdrive/My Drive/\""
      ],
      "metadata": {
        "id": "cm9RYDOXaWdT"
      },
      "execution_count": 66,
      "outputs": []
    },
    {
      "cell_type": "markdown",
      "source": [
        "# Nouvelle section"
      ],
      "metadata": {
        "id": "r98kfd4caXM2"
      }
    },
    {
      "cell_type": "code",
      "source": [
        "%%file jeudelavie.c\n",
        "\n",
        "#include <stdio.h>\n",
        "#include <stdlib.h>\n",
        "#include <time.h>\n",
        "#include <string.h>\n",
        "#include <time.h>\n",
        "\n",
        "#define BLK \"\\e[0;30m\"\n",
        "#define RED \"\\e[0;31m\"\n",
        "#define GRN \"\\e[0;32m\"\n",
        "#define YEL \"\\e[0;33m\"\n",
        "#define BLU \"\\e[0;34m\"\n",
        "#define MAG \"\\e[0;35m\"\n",
        "#define CYN \"\\e[0;36m\"\n",
        "#define WHT \"\\e[0;37m\"\n",
        "#define reset \"\\e[0m\"\n",
        "\n",
        "\n",
        "void DisplayArray(int sizeY,int sizeX,int* tab){\n",
        "\tfor(int i=0;i<sizeY;i++)printf(\"==\");\n",
        "\tprintf(\"\\n\");\n",
        "\tfor (int posX = 0; posX < sizeX ; posX++) {\n",
        "\t\tfor(int posY=0;posY<sizeY;posY++){\n",
        "\t\t  if(tab[posY+posX*sizeY])printf(RED\"%d \"reset,tab[posY+posX*sizeY]);\n",
        "\t\t  else printf(\"%d \",tab[posY+posX*sizeY]);\n",
        "\t\t}\n",
        "\t\tprintf(\"\\n\");\n",
        "\t}\n",
        "}\n",
        "\n",
        "void lifeGameCPU(int *Init, int *Next,int sizeX,int sizeY) {\n",
        "    for (int posX = 0; posX < sizeX ; posX++) {\n",
        "      for(int posY=0;posY<sizeY;posY++){\n",
        "        int nbrVoisin=0;\n",
        "        if((posX+1)<(sizeX)) \tnbrVoisin+=Init[posY+(posX+1)*sizeY];\n",
        "        if((posY+1)<(sizeY)) \tnbrVoisin+=Init[(posY+1)+posX*sizeY];\n",
        "        if((posX-1>=0)) \t\tnbrVoisin+=Init[posY+(posX-1)*sizeY];\n",
        "        if((posY-1>=0)) \t\tnbrVoisin+=Init[(posY-1)+posX*sizeY];\n",
        "\t\t\n",
        "        if((posX+1<(sizeX))\t\t&&(posY+1<sizeY)) \t\tnbrVoisin+=Init[(posY+1)+(posX+1)*sizeY];\n",
        "        if((posX-1>=0)\t\t\t&&(posY-1>=0)) \t\t\tnbrVoisin+=Init[(posY-1)+(posX-1)*sizeY];\n",
        "        if((posX-1>=0)\t\t\t&&(posY+1<(sizeY))) \tnbrVoisin+=Init[(posY+1)+(posX-1)*sizeY];\n",
        "        if((posY-1>=0)\t\t\t&&(posX+1<(sizeX))) \tnbrVoisin+=Init[(posY-1)+(posX+1)*sizeY];\n",
        "\t\t\n",
        "        if(Init[posY+posX*sizeY]==0){\n",
        "          if(nbrVoisin==3)Next[posY+posX*sizeY]=1;\n",
        "          else Next[posY+posX*sizeY]=0;\n",
        "        }else if (Init[posY+posX*sizeY]==1){\n",
        "          if((nbrVoisin<2||nbrVoisin>3))Next[posY+posX*sizeY]=0;\n",
        "          else Next[posY+posX*sizeY]=1;\n",
        "        }\n",
        "      }\n",
        "    }\n",
        "}\n",
        "\n",
        "int main(){\n",
        "\tFILE * fic=fopen(\"CPUxyToTime.csv\",\"w+\");\n",
        "//\tfprintf(fic,\"x y time\\n\");\n",
        "\tfprintf(fic,\"iter time\\n\");\n",
        "\tclock_t start, end;\n",
        "    double cpu_time_used;\n",
        "int rep=300,step=20,iter=10000;\n",
        "  for(int sizeY=100;sizeY<rep;sizeY+=step){\n",
        "      int sizeX=sizeY;\n",
        "\tint *Init, *Next;\n",
        "\tstart = clock();\n",
        "\n",
        "\tInit=(int*)malloc(sizeof(int)*sizeX*sizeY);\n",
        "\n",
        "\n",
        "\tNext=(int*)malloc(sizeof(int)*sizeX*sizeY);\n",
        "\n",
        "\n",
        "\tfor (int posX = 0; posX < sizeX ; posX++) {\n",
        "\t\tfor(int posY=0;posY<sizeY;posY++){\n",
        "\t\t\tInit[posY+posX*sizeY] = 0;\n",
        "\t\t\tNext[posY+posX*sizeY] = 0;\n",
        "\t\t}\n",
        "\t}\n",
        "\tInit[0]=1;Init[2]=1;Init[11]=1;Init[12]=1;Init[22]=1;\n",
        "\tfor(int z=0;z<iter;z++){\t\t\n",
        "\t\tif(z%2==0){\n",
        "\t\t\tlifeGameCPU(Init, Next,sizeX, sizeY);\n",
        "\t//\t\tDisplayArray(sizeX,sizeY,Init);\n",
        "\t\t}else{ \n",
        "\t\t\tlifeGameCPU(Next,Init,sizeX, sizeY);\n",
        "\t//\t\tDisplayArray(sizeX,sizeY,Next);\n",
        "\t\t}\n",
        "\t}\n",
        "\tfree(Init);\n",
        "\tfree(Next);\n",
        "\tend = clock();\n",
        "\tcpu_time_used = ((double) (end - start)) / CLOCKS_PER_SEC;\n",
        "\tfprintf(fic,\"%d %d %f\\n\",sizeX,sizeY,cpu_time_used);\n",
        "//\tfprintf(fic,\"%d %f\\n\",iter,cpu_time_used);\n",
        "}\n",
        "\tfclose(fic);\n",
        "\treturn 0;\n",
        "}"
      ],
      "metadata": {
        "colab": {
          "base_uri": "https://localhost:8080/"
        },
        "id": "nCh5KRCRaHZU",
        "outputId": "8bd18742-2ad4-4048-eff4-63a08762e026"
      },
      "execution_count": 1,
      "outputs": [
        {
          "output_type": "stream",
          "name": "stdout",
          "text": [
            "Writing jeudelavie.c\n"
          ]
        }
      ]
    },
    {
      "cell_type": "code",
      "source": [
        "!gcc -o jeudelavie jeudelavie.c"
      ],
      "metadata": {
        "id": "eHxeVhFdaP0Y"
      },
      "execution_count": 2,
      "outputs": []
    },
    {
      "cell_type": "code",
      "source": [
        "!./jeudelavie"
      ],
      "metadata": {
        "id": "ufXzzdGlG8E3"
      },
      "execution_count": 3,
      "outputs": []
    },
    {
      "cell_type": "code",
      "source": [
        "!ls -la"
      ],
      "metadata": {
        "colab": {
          "base_uri": "https://localhost:8080/"
        },
        "id": "it3ydicyqCy6",
        "outputId": "ea8a9c23-ec1f-4489-9204-a448eba4706d"
      },
      "execution_count": 57,
      "outputs": [
        {
          "output_type": "stream",
          "name": "stdout",
          "text": [
            "total 1237744\n",
            "drwxr-xr-x 1 root root       4096 Feb  6 14:42 .\n",
            "drwxr-xr-x 1 root root       4096 Feb  6 13:28 ..\n",
            "drwxr-xr-x 4 root root       4096 Feb  1 14:31 .config\n",
            "-rw-r--r-- 1 root root        149 Feb  6 14:44 CPUiterToTime.csv\n",
            "-rw-r--r-- 1 root root 1267391958 May  1  2018 cuda-repo-ubuntu1604-9-2-local_9.2.88-1_amd64.deb\n",
            "drwx------ 5 root root       4096 Feb  6 14:20 gdrive\n",
            "-rwxr-xr-x 1 root root      12808 Feb  6 14:42 jeudelavie\n",
            "-rw-r--r-- 1 root root       2767 Feb  6 14:42 jeudelavie.c\n",
            "drwxr-xr-x 1 root root       4096 Feb  1 14:32 sample_data\n",
            "drwxr-xr-x 2 root root       4096 Feb  6 13:40 src\n",
            "-rw-r--r-- 1 root root       1835 Feb  6 14:23 xyToTime.csv\n"
          ]
        }
      ]
    },
    {
      "cell_type": "code",
      "source": [
        "from google.colab import drive\n",
        "drive.mount('/content/gdrive')"
      ],
      "metadata": {
        "colab": {
          "base_uri": "https://localhost:8080/"
        },
        "id": "zCLcwA5_dB1w",
        "outputId": "8e1c274c-b239-4f23-83bb-b8421d783dec"
      },
      "execution_count": 4,
      "outputs": [
        {
          "output_type": "stream",
          "name": "stdout",
          "text": [
            "Mounted at /content/gdrive\n"
          ]
        }
      ]
    },
    {
      "cell_type": "code",
      "source": [
        "!cp -r CPUxyToTime.csv \"/content/gdrive/My Drive/\""
      ],
      "metadata": {
        "id": "MZAKqlJkdG6J"
      },
      "execution_count": 5,
      "outputs": []
    }
  ]
}