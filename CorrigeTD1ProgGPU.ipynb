{
  "nbformat": 4,
  "nbformat_minor": 0,
  "metadata": {
    "colab": {
      "name": "CorrigeTD1ProgGPU.ipynb",
      "provenance": [],
      "collapsed_sections": [],
      "include_colab_link": true
    },
    "kernelspec": {
      "name": "python3",
      "display_name": "Python 3"
    },
    "language_info": {
      "name": "python"
    },
    "accelerator": "GPU"
  },
  "cells": [
    {
      "cell_type": "markdown",
      "metadata": {
        "id": "view-in-github",
        "colab_type": "text"
      },
      "source": [
        "<a href=\"https://colab.research.google.com/github/Hikachhu/ProgGPU/blob/main/CorrigeTD1ProgGPU.ipynb\" target=\"_parent\"><img src=\"https://colab.research.google.com/assets/colab-badge.svg\" alt=\"Open In Colab\"/></a>"
      ]
    },
    {
      "cell_type": "markdown",
      "source": [
        "# Executez cette cellule pour installer la bonne version de CUDA"
      ],
      "metadata": {
        "id": "LP9Tl8IQxQAg"
      }
    },
    {
      "cell_type": "code",
      "source": [
        "!apt-get --purge remove cuda nvidia* libnvidia-*\n",
        "!dpkg -l | grep cuda- | awk '{print $2}' | xargs -n1 dpkg --purge\n",
        "!apt-get remove cuda-*\n",
        "!apt autoremove\n",
        "!apt-get update\n",
        "!wget https://developer.nvidia.com/compute/cuda/9.2/Prod/local_installers/cuda-repo-ubuntu1604-9-2-local_9.2.88-1_amd64 -O cuda-repo-ubuntu1604-9-2-local_9.2.88-1_amd64.deb\n",
        "!dpkg -i cuda-repo-ubuntu1604-9-2-local_9.2.88-1_amd64.deb\n",
        "!apt-key add /var/cuda-repo-9-2-local/7fa2af80.pub\n",
        "!apt-get update\n",
        "!apt-get install cuda-9.2"
      ],
      "metadata": {
        "id": "SC-ZfHdkMwiu"
      },
      "execution_count": null,
      "outputs": []
    },
    {
      "cell_type": "code",
      "execution_count": null,
      "metadata": {
        "id": "Vjov-qc1v32O"
      },
      "outputs": [],
      "source": [
        "!nvcc --version"
      ]
    },
    {
      "cell_type": "code",
      "source": [
        "!pip install git+git://github.com/andreinechaev/nvcc4jupyter.git"
      ],
      "metadata": {
        "id": "gNTbL4fywF2i"
      },
      "execution_count": null,
      "outputs": []
    },
    {
      "cell_type": "code",
      "source": [
        "%load_ext nvcc_plugin"
      ],
      "metadata": {
        "id": "Ktto5DHTwJpf"
      },
      "execution_count": null,
      "outputs": []
    },
    {
      "cell_type": "markdown",
      "source": [
        "# Exercise 3"
      ],
      "metadata": {
        "id": "vdZBR7NSxMLF"
      }
    },
    {
      "cell_type": "code",
      "source": [
        "%%cu\n",
        "#include <iostream>\n",
        "__global__ void kernel(void){\n",
        "    printf(\"Hello world from block %d, thread %d\\n\", blockIdx.x, threadIdx.x);\n",
        "}\n",
        "\n",
        "int main(void){\n",
        "    kernel<<<10,10>>>();\n",
        "    cudaDeviceSynchronize();\n",
        "    return 0;\n",
        "}"
      ],
      "metadata": {
        "id": "KssMuanhxSgC"
      },
      "execution_count": null,
      "outputs": []
    },
    {
      "cell_type": "markdown",
      "source": [
        "# Exercise 4"
      ],
      "metadata": {
        "id": "4TUi2GvA35r7"
      }
    },
    {
      "cell_type": "code",
      "source": [
        "%%cu\n",
        "#include <iostream>\n",
        "#include <chrono>\n",
        "\n",
        "#define N 512\n",
        "#define Niter 1000\n",
        "\n",
        "void addCPU(int *a, int *b, int *c) {\n",
        "    for (int i = 0; i < N*N ; i++) {\n",
        "        c[i] = a[i] + b[i];\n",
        "    }\n",
        "}\n",
        "\n",
        "__global__ void addKernel1D (int *a, int *b, int *c) {\n",
        "    int tid = threadIdx.x + blockIdx.x * blockDim.x;\n",
        "    while (tid < N*N) {\n",
        "        c[tid] = a[tid] + b[tid];\n",
        "        tid += blockDim.x * gridDim.x;\n",
        "    }\n",
        "}\n",
        "\n",
        "int main(void) {\n",
        "  int A[N*N], B[N*N], C[N*N], D[N*N];\n",
        "  int *d_A, *d_B, *d_C;\n",
        "  cudaEvent_t start, stop;\n",
        "  cudaEventCreate(&start);\n",
        "  cudaEventCreate(&stop);\n",
        "  cudaMalloc(&d_A, N*N*sizeof(int));\n",
        "  cudaMalloc(&d_B, N*N*sizeof(int));\n",
        "  cudaMalloc(&d_C, N*N*sizeof(int));\n",
        "\n",
        "  for (int i = 0 ; i < N*N ; i++) {\n",
        "          A[i] = i;\n",
        "          B[i] = i+1;\n",
        "  }\n",
        "  cudaMemcpy(d_A, A, N*N*sizeof(int), cudaMemcpyHostToDevice);\n",
        "  cudaMemcpy(d_B, B, N*N*sizeof(int), cudaMemcpyHostToDevice);\n",
        "\n",
        "  auto t_start = std::chrono::high_resolution_clock::now();\n",
        "  for (int i = 0; i <  Niter ; i++) // We do Niter to have an averaged execution time\n",
        "    addCPU(A, B, C);\n",
        "  auto t_end = std::chrono::high_resolution_clock::now();\n",
        "\n",
        "  cudaDeviceProp properties;\n",
        "  cudaGetDeviceProperties(&properties, 0);\n",
        "  int nThreads = properties.maxThreadsPerBlock; // Get maximum number of threads per block\n",
        "  int nBlocks = (N*N + nThreads - 1) / nThreads; // Get right number of blocks to cover our problem\n",
        "  addKernel1D<<<nBlocks,nThreads>>>(d_A, d_B, d_C); // WARM-UP\n",
        "  cudaEventRecord(start);\n",
        "  for (int i = 0; i <  Niter ; i++) // We do Niter to have an averaged execution time\n",
        "    addKernel1D<<<nBlocks,nThreads>>>(d_A, d_B, d_C);\n",
        "  cudaEventRecord(stop);\n",
        "  cudaEventSynchronize(stop);\n",
        "  float ms;\n",
        "  cudaEventElapsedTime(&ms, start, stop);\n",
        "\n",
        "  cudaMemcpy(D, d_C, N*N*sizeof(int), cudaMemcpyDeviceToHost);\n",
        "  cudaMemcpy(B, d_B, N*N*sizeof(int), cudaMemcpyDeviceToHost);\n",
        "\n",
        "  int diff = 0;\n",
        "  for (int i = 0 ; i < N ; i++) {\n",
        "      if(D[i] != C[i]) diff = D[i] - C[i];\n",
        "  }\n",
        "  if(diff != 0) {\n",
        "      printf(\"Wrong computation : diff = %d\", diff);\n",
        "      return 0;\n",
        "  }\n",
        "  printf(\"CPU execution time = %f ms\\n\", std::chrono::duration<double, std::milli>(t_end-t_start).count()/Niter);\n",
        "  printf(\"GPU execution time = %f ms\\n\", ms/Niter);\n",
        "  cudaFree(d_A);\n",
        "  cudaFree(d_B);\n",
        "  cudaFree(d_C);\n",
        "\n",
        "}"
      ],
      "metadata": {
        "colab": {
          "base_uri": "https://localhost:8080/"
        },
        "id": "QYT9qRDa37rS",
        "outputId": "73e86406-fa5c-4848-bad9-6cd465ba63eb"
      },
      "execution_count": 6,
      "outputs": [
        {
          "output_type": "stream",
          "name": "stdout",
          "text": [
            "CPU execution time = 0.758210 ms\n",
            "GPU execution time = 0.011899 ms\n",
            "\n"
          ]
        }
      ]
    }
  ]
}